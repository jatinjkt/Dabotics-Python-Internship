{
 "cells": [
  {
   "cell_type": "markdown",
   "metadata": {},
   "source": [
    "# ***ALARM CLOCK***\n"
   ]
  },
  {
   "cell_type": "code",
   "execution_count": 5,
   "metadata": {},
   "outputs": [
    {
     "name": "stdout",
     "output_type": "stream",
     "text": [
      "Enter the time for the alarm (24-hour format, e.g., 13:30):\n",
      "Time to wake up!\n"
     ]
    }
   ],
   "source": [
    "from datetime import datetime, timedelta\n",
    "import time\n",
    "from playsound import playsound\n",
    "\n",
    "def set_alarm():\n",
    "    print(\"Enter the time for the alarm (24-hour format, e.g., 13:30):\")\n",
    "    alarm_time_str = input(\">> \")\n",
    "\n",
    "    try:\n",
    "        alarm_time = datetime.strptime(alarm_time_str, \"%H:%M\")\n",
    "    except ValueError:\n",
    "        print(\"Invalid time format. Please use the 24-hour format (HH:MM).\")\n",
    "        return\n",
    "\n",
    "    return alarm_time\n",
    "\n",
    "def check_alarm(alarm_time):\n",
    "    while True:\n",
    "        current_time = datetime.now().strftime(\"%H:%M\")\n",
    "        if current_time == alarm_time.strftime(\"%H:%M\"):\n",
    "            print(\"Time to wake up!\")\n",
    "            playsound(\"/Users/jatinkumar/Downloads/alarm_sound.mp3\")  # Replace \"beep.mp3\" with the path to your sound file\n",
    "            break\n",
    "        time.sleep(1)\n",
    "\n",
    "# Set the alarm\n",
    "alarm_time = set_alarm()\n",
    "\n",
    "# Check the alarm\n",
    "if alarm_time:\n",
    "    check_alarm(alarm_time)\n"
   ]
  },
  {
   "cell_type": "markdown",
   "metadata": {},
   "source": [
    "# ***URL SHORTNER***"
   ]
  },
  {
   "cell_type": "code",
   "execution_count": 11,
   "metadata": {},
   "outputs": [
    {
     "name": "stdout",
     "output_type": "stream",
     "text": [
      "Shortened URL: http://short.url/b98272ed\n"
     ]
    }
   ],
   "source": [
    "import hashlib\n",
    "\n",
    "class URLShortener:\n",
    "    def __init__(self):\n",
    "        self.url_mapping = {}\n",
    "\n",
    "    def shorten_url(self, original_url):\n",
    "        short_code = hashlib.md5(original_url.encode()).hexdigest()[:8]\n",
    "        self.url_mapping[short_code] = original_url\n",
    "        shortened_url = f\"http://short.url/{short_code}\"\n",
    "        return shortened_url\n",
    "\n",
    "    def expand_url(self, short_code):\n",
    "        original_url = self.url_mapping.get(short_code, \"URL not found\")\n",
    "        return original_url\n",
    "\n",
    "# Example usage:\n",
    "url_shortener = URLShortener()\n",
    "\n",
    "# Get user input\n",
    "original_url = input(\"Enter the URL to shorten: \")\n",
    "\n",
    "\n",
    "# Shorten the URL\n",
    "shortened_url = url_shortener.shorten_url(original_url)\n",
    "\n",
    "# Display the shortened URL\n",
    "print(f\"Shortened URL: {shortened_url}\")\n"
   ]
  },
  {
   "cell_type": "markdown",
   "metadata": {},
   "source": [
    "# ***CHAT BOT***"
   ]
  },
  {
   "cell_type": "code",
   "execution_count": 13,
   "metadata": {},
   "outputs": [
    {
     "name": "stdout",
     "output_type": "stream",
     "text": [
      "Hello! How can I assist you today?\n",
      "Bot: I'm just a program, but thanks for asking!\n",
      "Bot: I'm just a program, but thanks for asking!\n",
      "Bot: Shree Narendra Modi\n",
      "Bot: Why don't scientists trust atoms? Because they make up everything!\n",
      "Goodbye! Have a great day.\n"
     ]
    }
   ],
   "source": [
    "import random\n",
    "\n",
    "class SimpleChatbot:\n",
    "    def __init__(self, personality):\n",
    "        self.personality = personality\n",
    "\n",
    "    def greet_user(self):\n",
    "        print(f\"{self.personality['greeting']}! How can I assist you today?\")\n",
    "\n",
    "    def respond_to_input(self, user_input):\n",
    "        responses = self.personality.get(\"responses\", {})\n",
    "        default_response = self.personality.get(\"default_response\", \"I'm not sure how to respond to that.\")\n",
    "\n",
    "        return responses.get(user_input.lower(), default_response)\n",
    "\n",
    "    def chat(self):\n",
    "        self.greet_user()\n",
    "\n",
    "        while True:\n",
    "            user_input = input(\"You: \")\n",
    "            if user_input.lower() in [\"exit\", \"bye\", \"quit\"]:\n",
    "                print(\"Goodbye! Have a great day.\")\n",
    "                break\n",
    "\n",
    "            response = self.respond_to_input(user_input)\n",
    "            print(\"Bot:\", response)\n",
    "\n",
    "if __name__ == \"__main__\":\n",
    "    # Define the personality of the chatbot\n",
    "    my_chatbot_personality = {\n",
    "        \"greeting\": \"Hello\",\n",
    "        \"responses\": {\n",
    "            \"how are you\": \"I'm just a program, but thanks for asking!\",\n",
    "            \"tell me a joke\": \"Why don't scientists trust atoms? Because they make up everything!\",\n",
    "            \"what is your name\": \"You can call me chatterbot.\",\n",
    "            \"how does the weather look today\": \"I'm afraid I don't have real-time data, but you can check a weather website for accurate information.\",\n",
    "            \"who is the prime minister\": \"Shree Narendra Modi\",\n",
    "            \"what is the meaning of life\": \"The meaning of life is a philosophical question. Some believe it's 42!\",\n",
    "            \"favorite color\": \"I don't have a favorite color, but I like the idea of binary code.\",\n",
    "        },\n",
    "        \"default_response\": \"I'm not sure how to respond to that.\",\n",
    "    }\n",
    "\n",
    "    # Create an instance of the chatbot with the defined personality\n",
    "    my_chatbot = SimpleChatbot(personality=my_chatbot_personality)\n",
    "\n",
    "    # Start the chatbot conversation\n",
    "    my_chatbot.chat()\n"
   ]
  }
 ],
 "metadata": {
  "kernelspec": {
   "display_name": "Python 3",
   "language": "python",
   "name": "python3"
  },
  "language_info": {
   "codemirror_mode": {
    "name": "ipython",
    "version": 3
   },
   "file_extension": ".py",
   "mimetype": "text/x-python",
   "name": "python",
   "nbconvert_exporter": "python",
   "pygments_lexer": "ipython3",
   "version": "3.9.6"
  }
 },
 "nbformat": 4,
 "nbformat_minor": 2
}
